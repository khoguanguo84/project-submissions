{
 "cells": [
  {
   "cell_type": "markdown",
   "id": "173e115f",
   "metadata": {},
   "source": [
    "# Predicting Loan Default: Part 2"
   ]
  },
  {
   "cell_type": "markdown",
   "id": "5fe9b7a8",
   "metadata": {},
   "source": [
    "**EDA**"
   ]
  },
  {
   "cell_type": "code",
   "execution_count": null,
   "id": "2a4c2229",
   "metadata": {},
   "outputs": [],
   "source": [
    "# importing libraries\n",
    "\n",
    "import sweetviz as sw\n",
    "import pandas as pd\n",
    "\n",
    "import numpy as np\n",
    "import seaborn as sns\n",
    "import matplotlib.pyplot as plt\n",
    "import plotly.express as px\n",
    "from ipywidgets import interact, interactive, fixed, interact_manual\n",
    "import ipywidgets as widgets\n",
    "import lightgbm as lgb\n",
    "\n",
    "from sklearn.linear_model import LogisticRegression\n",
    "from sklearn.naive_bayes import MultinomialNB\n",
    "from sklearn.preprocessing import PolynomialFeatures, StandardScaler, LabelEncoder\n",
    "from sklearn.model_selection import train_test_split, cross_val_score, cross_val_predict, GridSearchCV\n",
    "from sklearn.metrics import r2_score\n",
    "from sklearn.ensemble import GradientBoostingClassifier, AdaBoostClassifier, VotingClassifier, RandomForestClassifier, ExtraTreesClassifier\n",
    "from sklearn.tree import DecisionTreeClassifier\n",
    "\n",
    "import re\n",
    "\n",
    "%matplotlib inline"
   ]
  },
  {
   "cell_type": "code",
   "execution_count": null,
   "id": "d8f136ef",
   "metadata": {},
   "outputs": [],
   "source": [
    "pd.set_option('display.max_columns',None)"
   ]
  },
  {
   "cell_type": "code",
   "execution_count": null,
   "id": "ec482403",
   "metadata": {},
   "outputs": [],
   "source": [
    "train_clean = pd.read_csv('data/train_clean.csv')"
   ]
  },
  {
   "cell_type": "code",
   "execution_count": null,
   "id": "788f4fae",
   "metadata": {
    "scrolled": true
   },
   "outputs": [],
   "source": [
    "train_clean.head()"
   ]
  },
  {
   "cell_type": "markdown",
   "id": "4fd84c6d",
   "metadata": {},
   "source": [
    "Using SweetViz to get a general look at the data, saved as output.html"
   ]
  },
  {
   "cell_type": "code",
   "execution_count": null,
   "id": "1af9815a",
   "metadata": {},
   "outputs": [],
   "source": [
    "# analyze data\n",
    "analyze_report = sw.analyze(train_clean)\n",
    "# display analyzed data in browser\n",
    "analyze_report.show_html('output.html', open_browser = True)"
   ]
  },
  {
   "cell_type": "markdown",
   "id": "b366bc41",
   "metadata": {},
   "source": [
    "Initial EDA saved to html output."
   ]
  },
  {
   "cell_type": "code",
   "execution_count": null,
   "id": "68c3cdbd",
   "metadata": {},
   "outputs": [],
   "source": [
    "# using .describe() to take a look at the data\n",
    "train_clean.describe()"
   ]
  },
  {
   "cell_type": "code",
   "execution_count": null,
   "id": "8997b748",
   "metadata": {},
   "outputs": [],
   "source": [
    "# split into continuous and categorical dataframes\n",
    "train_num = train_clean.select_dtypes(include ='number')\n",
    "train_cat = train_clean.select_dtypes(include = ['object','category'])\n",
    "\n",
    "train_cat"
   ]
  },
  {
   "cell_type": "code",
   "execution_count": null,
   "id": "cc650015",
   "metadata": {},
   "outputs": [],
   "source": [
    "train_num"
   ]
  },
  {
   "cell_type": "code",
   "execution_count": null,
   "id": "2f8dc879",
   "metadata": {},
   "outputs": [],
   "source": [
    "train_cat = pd.read_csv('data/train_cat.csv')\n",
    "train_num = pd.read_csv('data/train_num.csv')"
   ]
  },
  {
   "cell_type": "code",
   "execution_count": null,
   "id": "79d6f574",
   "metadata": {},
   "outputs": [],
   "source": [
    "train_cat.head()"
   ]
  },
  {
   "cell_type": "markdown",
   "id": "9eab31d8",
   "metadata": {},
   "source": [
    "**Categorical Features**"
   ]
  },
  {
   "cell_type": "markdown",
   "id": "cffbc44f",
   "metadata": {},
   "source": [
    "Taking a look at the categorical features and seeing the number of defaults as a percentage of the total number of those feature value observations."
   ]
  },
  {
   "cell_type": "code",
   "execution_count": null,
   "id": "e05d0a29",
   "metadata": {},
   "outputs": [],
   "source": [
    "# batch_enrolled\n",
    "train_clean.groupby(['batch_enrolled'])['loan_status'].apply(lambda x: (x > 0).sum() / x.size * 100)"
   ]
  },
  {
   "cell_type": "markdown",
   "id": "5c5d8b34",
   "metadata": {},
   "source": [
    "A higher percentage of default was noticed in BAT1135695."
   ]
  },
  {
   "cell_type": "code",
   "execution_count": null,
   "id": "ccc117b0",
   "metadata": {
    "scrolled": true
   },
   "outputs": [],
   "source": [
    "# grade\n",
    "train_clean.groupby(['grade'])['loan_status'].apply(lambda x: (x > 0).sum() / x.size * 100)"
   ]
  },
  {
   "cell_type": "markdown",
   "id": "9a8a8ea0",
   "metadata": {},
   "source": [
    "Generally even percentage of defaults across most grades, with small increments the higher the alphabet grade."
   ]
  },
  {
   "cell_type": "code",
   "execution_count": null,
   "id": "5ec74cbf",
   "metadata": {},
   "outputs": [],
   "source": [
    "# sub_grade\n",
    "train_clean.groupby(['sub_grade'])['loan_status'].apply(lambda x: (x > 0).sum() / x.size * 100)"
   ]
  },
  {
   "cell_type": "markdown",
   "id": "ad19ed6f",
   "metadata": {},
   "source": [
    "A higher percentage of defaults in sub grade G3 as compared to the rest of the sub grades. It is also noted that perhaps using sub grade as the feature and removing grade would be a good idea as they are overlapping features."
   ]
  },
  {
   "cell_type": "code",
   "execution_count": null,
   "id": "ecdae503",
   "metadata": {
    "scrolled": true
   },
   "outputs": [],
   "source": [
    "# employment_duration\n",
    "train_clean.groupby(['employment_duration'])['loan_status'].apply(lambda x: (x > 0).sum() / x.size * 100)"
   ]
  },
  {
   "cell_type": "markdown",
   "id": "0478ae7b",
   "metadata": {},
   "source": [
    "Generally even distribution in terms of percentage across all 3 values but the highest percentage noticed in OWN."
   ]
  },
  {
   "cell_type": "code",
   "execution_count": null,
   "id": "4d015350",
   "metadata": {
    "scrolled": true
   },
   "outputs": [],
   "source": [
    "# verification_status\n",
    "train_clean.groupby(['verification_status'])['loan_status'].apply(lambda x: (x > 0).sum() / x.size * 100)"
   ]
  },
  {
   "cell_type": "markdown",
   "id": "1d1f3fb2",
   "metadata": {},
   "source": [
    "A generally even distribution of defaults across all 3 observation types. "
   ]
  },
  {
   "cell_type": "code",
   "execution_count": null,
   "id": "c02e8c17",
   "metadata": {
    "scrolled": true
   },
   "outputs": [],
   "source": [
    "# loan_title\n",
    "train_clean.groupby(['loan_title'])['loan_status'].apply(lambda x: (x > 0).sum() / x.size * 100)"
   ]
  },
  {
   "cell_type": "markdown",
   "id": "c6687466",
   "metadata": {},
   "source": [
    "A higher default rate noticed in refi, wedding loan, home, car loan, loan and relief."
   ]
  },
  {
   "cell_type": "code",
   "execution_count": null,
   "id": "23c8df6e",
   "metadata": {},
   "outputs": [],
   "source": [
    "# initial_list_status\n",
    "train_clean.groupby(['initial_list_status'])['loan_status'].apply(lambda x: (x > 0).sum() / x.size * 100)"
   ]
  },
  {
   "cell_type": "markdown",
   "id": "9f1abdec",
   "metadata": {},
   "source": [
    "Not too clear a difference in the distribution of default loans between the 2 values in initial list status, but forwarded initial list status has slightly higher rates of default than waiting."
   ]
  },
  {
   "cell_type": "code",
   "execution_count": null,
   "id": "b82bc5d6",
   "metadata": {},
   "outputs": [],
   "source": [
    "# application_type\n",
    "train_clean.groupby(['application_type'])['loan_status'].apply(lambda x: (x > 0).sum() / x.size * 100)"
   ]
  },
  {
   "cell_type": "markdown",
   "id": "32802d03",
   "metadata": {},
   "source": [
    "Again very little difference in the percentages of loan defauults between individual and joint applications, with individual being slightly higher in rate."
   ]
  },
  {
   "cell_type": "markdown",
   "id": "58ab35ed",
   "metadata": {},
   "source": [
    "**Numerical Features**"
   ]
  },
  {
   "cell_type": "code",
   "execution_count": null,
   "id": "ca80dba4",
   "metadata": {},
   "outputs": [],
   "source": [
    "train_num.head()"
   ]
  },
  {
   "cell_type": "code",
   "execution_count": null,
   "id": "dd3b5bc4",
   "metadata": {},
   "outputs": [],
   "source": [
    "train_num = train_num.apply(pd.to_numeric, errors='coerce')"
   ]
  },
  {
   "cell_type": "code",
   "execution_count": null,
   "id": "e0a93624",
   "metadata": {},
   "outputs": [],
   "source": [
    "train_num.dtypes"
   ]
  },
  {
   "cell_type": "code",
   "execution_count": null,
   "id": "66ca9b42",
   "metadata": {},
   "outputs": [],
   "source": [
    "train_num.info()"
   ]
  },
  {
   "cell_type": "code",
   "execution_count": null,
   "id": "36d40596",
   "metadata": {},
   "outputs": [],
   "source": [
    "train_num.describe()"
   ]
  },
  {
   "cell_type": "markdown",
   "id": "79e4fe8c",
   "metadata": {},
   "source": [
    "**Histplots**\n",
    "\n",
    "Plotting some of the continuous features against the target column to see if any patterns can be seen from the plots."
   ]
  },
  {
   "cell_type": "code",
   "execution_count": null,
   "id": "4ae29782",
   "metadata": {},
   "outputs": [],
   "source": [
    "sns.histplot(data = train_clean, x = 'funded_amount', hue = 'loan_status', legend = True, kde = False, element = 'poly', bins = 100)\n",
    "plt.xticks(rotation = 90);"
   ]
  },
  {
   "cell_type": "code",
   "execution_count": null,
   "id": "0b9d478b",
   "metadata": {},
   "outputs": [],
   "source": [
    "sns.histplot(data = train_clean, x = 'interest_rate', hue = 'loan_status', legend = True, kde = False, element = 'poly', bins = 25)\n",
    "plt.xticks(rotation = 90);"
   ]
  },
  {
   "cell_type": "code",
   "execution_count": null,
   "id": "9fc219c7",
   "metadata": {},
   "outputs": [],
   "source": [
    "sns.histplot(data = train_clean, x = 'home_ownership', hue = 'loan_status', legend = True, kde = False, element = 'poly', bins = 15)\n",
    "plt.xticks(rotation = 90);"
   ]
  },
  {
   "cell_type": "markdown",
   "id": "ee38a3a0",
   "metadata": {},
   "source": [
    "**Observations**\n",
    "\n",
    "There were no new observations from the above plots, other than the fact that we can confirm now there is very little colinearity between any of the features in the given dataset. Box plots were also made in a separate notebook that also yielded similar conclusions and will not be included here as many of the observations are similar."
   ]
  },
  {
   "cell_type": "markdown",
   "id": "4589b5bb",
   "metadata": {},
   "source": [
    "**Scatter Plots**\n",
    "\n",
    "Using scatter plots to try and see if there are any features that are similar to each other or may be related to each other that yield any patterns with the target column."
   ]
  },
  {
   "cell_type": "code",
   "execution_count": null,
   "id": "bdf19515",
   "metadata": {},
   "outputs": [],
   "source": [
    "fig = px.scatter(train_clean, x=\"loan_amount\", y=\"total_collection_amount\",\n",
    "                color=\"loan_status\", hover_data=['verification_status']);\n",
    "fig.show()"
   ]
  },
  {
   "cell_type": "code",
   "execution_count": null,
   "id": "eb8a0aa2",
   "metadata": {},
   "outputs": [],
   "source": [
    "fig = px.scatter(train_clean, x=\"funded_amount\", y=\"funded_amount_investor\",\n",
    "                color=\"loan_status\", hover_data=['verification_status']);\n",
    "fig.show()"
   ]
  },
  {
   "cell_type": "code",
   "execution_count": null,
   "id": "e3dbcadf",
   "metadata": {},
   "outputs": [],
   "source": [
    "train_num['term'].unique()"
   ]
  },
  {
   "cell_type": "code",
   "execution_count": null,
   "id": "b57c605a",
   "metadata": {},
   "outputs": [],
   "source": [
    "# treating term as if it were a categorical feature and geting the percetage defaults in each term\n",
    "train_clean.groupby(['term'])['loan_status'].apply(lambda x: (x > 0).sum() / x.size * 100)"
   ]
  },
  {
   "cell_type": "markdown",
   "id": "c2945c83",
   "metadata": {},
   "source": [
    "The 36 year term seems to have a higher percentage of defaults as compared to the 58 and 59 year terms."
   ]
  },
  {
   "cell_type": "code",
   "execution_count": null,
   "id": "13191421",
   "metadata": {},
   "outputs": [],
   "source": [
    "fig = px.scatter(train_clean, x=\"total_received_late_fee\", y=\"collection_recovery_fee\",\n",
    "                color=\"loan_status\", hover_data=['verification_status']);\n",
    "fig.show()"
   ]
  },
  {
   "cell_type": "code",
   "execution_count": null,
   "id": "c19e37cf",
   "metadata": {},
   "outputs": [],
   "source": [
    "train_num['collection12months_medical'].unique()"
   ]
  },
  {
   "cell_type": "code",
   "execution_count": null,
   "id": "5865c621",
   "metadata": {},
   "outputs": [],
   "source": [
    "# treating collection12months_medical as if it were a categorical feature and geting the percetage defaults for each value\n",
    "train_clean.groupby(['collection12months_medical'])['loan_status'].apply(lambda x: (x > 0).sum() / x.size * 100)"
   ]
  },
  {
   "cell_type": "markdown",
   "id": "3d9ea31d",
   "metadata": {},
   "source": [
    "**Observations**\n",
    "\n",
    "Again, the scatter plots did not yield many new findings, but that 2 of the continuous features can be treated as categorical features and can be inspected using the percentages of their values vs the target column."
   ]
  },
  {
   "cell_type": "code",
   "execution_count": null,
   "id": "1a6aa44a",
   "metadata": {},
   "outputs": [],
   "source": []
  },
  {
   "cell_type": "markdown",
   "id": "1df6f9a2",
   "metadata": {},
   "source": [
    "**Feature Engineering**"
   ]
  },
  {
   "cell_type": "markdown",
   "id": "bc87f18d",
   "metadata": {},
   "source": [
    "Arithmatic Features:"
   ]
  },
  {
   "cell_type": "code",
   "execution_count": null,
   "id": "301db3eb",
   "metadata": {},
   "outputs": [],
   "source": [
    "train_clean.head()"
   ]
  },
  {
   "cell_type": "code",
   "execution_count": null,
   "id": "49001280",
   "metadata": {},
   "outputs": [],
   "source": [
    "# getting total funded amount\n",
    "train_clean['loan_fund_total'] = train_clean['funded_amount'] + train_clean['funded_amount_investor']\n",
    "\n",
    "# getting proportion loan funded\n",
    "train_clean['prop_loan_funded'] = train_clean['loan_fund_total'] / train_clean['loan_amount']"
   ]
  },
  {
   "cell_type": "markdown",
   "id": "24dc7901",
   "metadata": {},
   "source": [
    "Reducing the number of values in batch enrolled by grouping into 3 broad groups"
   ]
  },
  {
   "cell_type": "code",
   "execution_count": null,
   "id": "de0ef2e0",
   "metadata": {},
   "outputs": [],
   "source": [
    "train_clean['batch_enrolled'].unique()"
   ]
  },
  {
   "cell_type": "code",
   "execution_count": null,
   "id": "49dc6594",
   "metadata": {},
   "outputs": [],
   "source": [
    "train_clean.groupby(['batch_enrolled'])['loan_status'].apply(lambda x: (x > 0).sum() / x.size * 100)"
   ]
  },
  {
   "cell_type": "code",
   "execution_count": null,
   "id": "dd8911f7",
   "metadata": {},
   "outputs": [],
   "source": [
    "# Creating lists to store the unique values in each group\n",
    "batch_group_1 = ['BAT2522922', 'BAT2136391', 'BAT2428731',\n",
    "       'BAT5341619', 'BAT4694572', 'BAT4808022', 'BAT2558388',\n",
    "       'BAT2078974', 'BAT2252229', 'BAT2333412', 'BAT5849876',\n",
    "       'BAT2833642', 'BAT2803411', 'BAT5525466', 'BAT5714674',\n",
    "       'BAT4722912', 'BAT3873588', 'BAT1780517',\n",
    "       'BAT4271519', 'BAT5811547', 'BAT1184694', 'BAT4136152',\n",
    "       'BAT3193689', 'BAT1467036', 'BAT2575549', 'BAT4351734',\n",
    "       'BAT1104812', 'BAT5924421', 'BAT1930365', 'BAT1766061',\n",
    "       'BAT5489674', 'BAT3865626', 'BAT5629144', 'BAT5547201',\n",
    "       'BAT224923', 'BAT3726927', 'BAT3461431']\n",
    "\n",
    "batch_group_2 = ['BAT1586599', 'BAT1761981', 'BAT2003848']\n",
    "\n",
    "batch_group_3 = ['BAT1135695']"
   ]
  },
  {
   "cell_type": "code",
   "execution_count": null,
   "id": "388cc674",
   "metadata": {},
   "outputs": [],
   "source": [
    "# Define a dictionary mapping each list to its corresponding replacement string\n",
    "batch_groups = {'batch_group_1': 'BAT 1', 'batch_group_2': 'BAT 2', 'batch_group_3': 'BAT 3'}\n",
    "\n",
    "# Replace the values in the 'batch_enrolled' column based on membership in the original lists\n",
    "train_clean['batch_enrolled'] = train_clean['batch_enrolled'].apply(lambda x: batch_groups['batch_group_1'] if x in batch_group_1\n",
    "                                                                                    else (batch_groups['batch_group_2'] if x in batch_group_2\n",
    "                                                                                    else batch_groups['batch_group_3']))\n",
    "\n"
   ]
  },
  {
   "cell_type": "code",
   "execution_count": null,
   "id": "85c58511",
   "metadata": {},
   "outputs": [],
   "source": [
    "# Check percentages for ne batch_enrolled column\n",
    "train_clean.groupby(['batch_enrolled'])['loan_status'].apply(lambda x: (x > 0).sum() / x.size * 100)"
   ]
  },
  {
   "cell_type": "markdown",
   "id": "7c50b1d6",
   "metadata": {},
   "source": [
    "Reducing the number of values in grades and sub grades by using the same method as the above"
   ]
  },
  {
   "cell_type": "code",
   "execution_count": null,
   "id": "06344d08",
   "metadata": {},
   "outputs": [],
   "source": [
    "train_clean.groupby(['grade'])['loan_status'].apply(lambda x: (x > 0).sum() / x.size * 100)"
   ]
  },
  {
   "cell_type": "code",
   "execution_count": null,
   "id": "e6c85423",
   "metadata": {},
   "outputs": [],
   "source": [
    "# Creating lists to store the unique values in each group\n",
    "grade_1 = ['A', 'B']\n",
    "grade_2 = ['C', 'D', 'E']\n",
    "grade_3 = ['F', 'G']\n",
    "\n",
    "# Define a dictionary mapping each list to its corresponding replacement string\n",
    "grade_groups = {'grade_1': 'grade1', 'grade_2': 'grade2', 'grade_3': 'grade3'}\n",
    "\n",
    "# Replace the values in the 'grade' column based on membership in the original lists\n",
    "train_clean['grade'] = train_clean['grade'].apply(lambda x: grade_groups['grade_1'] if x in grade_1\n",
    "                                                                                    else (grade_groups['grade_2'] if x in grade_2\n",
    "                                                                                    else grade_groups['grade_3']))"
   ]
  },
  {
   "cell_type": "code",
   "execution_count": null,
   "id": "42babc4c",
   "metadata": {
    "scrolled": true
   },
   "outputs": [],
   "source": [
    "# check percentages for train dataset grade column\n",
    "train_clean.groupby(['grade'])['loan_status'].apply(lambda x: (x > 0).sum() / x.size * 100)"
   ]
  },
  {
   "cell_type": "code",
   "execution_count": null,
   "id": "1ea21f30",
   "metadata": {},
   "outputs": [],
   "source": [
    "# checking the list for sub-grade\n",
    "train_clean.groupby(['sub_grade'])['loan_status'].apply(lambda x: (x > 0).sum() / x.size * 100)"
   ]
  },
  {
   "cell_type": "code",
   "execution_count": null,
   "id": "3c869abf",
   "metadata": {},
   "outputs": [],
   "source": [
    "# split them into groups 7-8.99%, 9-9.99%, 10-11%, above 11%\n",
    "sub_grade_1 = ['B2', 'B3', 'C1', 'D3', 'E2', 'E3', 'E5', 'F1', 'G2']\n",
    "sub_grade_2 = ['A1', 'A2', 'A3', 'A4', 'A5', 'B1', 'B4', 'B5', 'C2', 'C3', 'C4', 'C5', 'D1', 'D2', 'D4', 'F3', 'F4', 'F5', 'G1','G4', 'G5']\n",
    "sub_grade_3 = ['D5', 'E1', 'E4', 'F2']\n",
    "sub_grade_4 = ['G3']\n",
    "\n",
    "# Define a dictionary mapping each list to its corresponding replacement string\n",
    "sub_grade_groups = {'sub_grade_1': 'subgrade1', 'sub_grade_2': 'subgrade2', 'sub_grade_3': 'subgrade3', 'sub_grade_4': 'subgrade4'}\n",
    "\n",
    "# Replace the values in the 'sub_grade' column based on membership in the original lists\n",
    "train_clean['sub_grade'] = train_clean['sub_grade'].apply(lambda x: sub_grade_groups['sub_grade_1'] if x in sub_grade_1\n",
    "                                                                                    else (sub_grade_groups['sub_grade_2'] if x in sub_grade_2\n",
    "                                                                                    else sub_grade_groups['sub_grade_3'] if x in sub_grade_3\n",
    "                                                                                    else sub_grade_groups['sub_grade_4']))"
   ]
  },
  {
   "cell_type": "code",
   "execution_count": null,
   "id": "d7b7b759",
   "metadata": {},
   "outputs": [],
   "source": [
    "# check percentages for sub_grade\n",
    "train_clean.groupby(['sub_grade'])['loan_status'].apply(lambda x: (x > 0).sum() / x.size * 100)"
   ]
  },
  {
   "cell_type": "code",
   "execution_count": null,
   "id": "d91e139d",
   "metadata": {},
   "outputs": [],
   "source": [
    "train_clean.head()"
   ]
  },
  {
   "cell_type": "code",
   "execution_count": null,
   "id": "ff514e16",
   "metadata": {},
   "outputs": [],
   "source": [
    "train_clean.shape"
   ]
  },
  {
   "cell_type": "code",
   "execution_count": null,
   "id": "535d8009",
   "metadata": {},
   "outputs": [],
   "source": [
    "# save version one of dataset to csv\n",
    "train_clean.to_csv('train_model.csv', index=False)"
   ]
  },
  {
   "cell_type": "markdown",
   "id": "060ce817",
   "metadata": {},
   "source": [
    "**Data manipulation after first round of modelling**"
   ]
  },
  {
   "cell_type": "markdown",
   "id": "67f8c4ed",
   "metadata": {},
   "source": [
    "Converting some of the numerical/continuous features to categorical ones by grouping them."
   ]
  },
  {
   "cell_type": "code",
   "execution_count": null,
   "id": "7f45e8d6",
   "metadata": {
    "scrolled": true
   },
   "outputs": [],
   "source": [
    "train_clean.describe()"
   ]
  },
  {
   "cell_type": "code",
   "execution_count": null,
   "id": "02503994",
   "metadata": {},
   "outputs": [],
   "source": [
    "cont_list = ['loan_amount', 'funded_amount', 'funded_amount_investor',\n",
    "            'interest_rate', 'home_ownership', 'debitto_income',\n",
    "            'inquires_sixmonths', 'open_account', 'public_record', 'revolving_balance', 'revolving_utilities', 'total_accounts',\n",
    "            'total_received_interest', 'total_received_late_fee', 'recoveries', 'collection_recovery_fee',\n",
    "            'lastweek_pay', 'total_collection_amount', 'total_current_balance', 'total_revolving_credit_limit', 'loan_fund_total',\n",
    "            'prop_loan_funded']"
   ]
  },
  {
   "cell_type": "code",
   "execution_count": null,
   "id": "c814048e",
   "metadata": {
    "scrolled": false
   },
   "outputs": [],
   "source": [
    "train_clean[cont_list].dtypes"
   ]
  },
  {
   "cell_type": "code",
   "execution_count": null,
   "id": "2506a16e",
   "metadata": {},
   "outputs": [],
   "source": [
    "train_clean['loan_amount'].unique()"
   ]
  },
  {
   "cell_type": "code",
   "execution_count": null,
   "id": "da5e2c5b",
   "metadata": {},
   "outputs": [],
   "source": [
    "# treating term as a catergorical feature\n",
    "train_clean['term'] = train_clean['term'].astype(str)\n",
    "train_clean['term'].dtypes"
   ]
  },
  {
   "cell_type": "code",
   "execution_count": null,
   "id": "090c1606",
   "metadata": {},
   "outputs": [],
   "source": [
    "# Checking %\n",
    "train_clean.groupby(['term'])['loan_status'].apply(lambda x: (x > 0).sum() / x.size * 100)"
   ]
  },
  {
   "cell_type": "code",
   "execution_count": null,
   "id": "9e148fd4",
   "metadata": {},
   "outputs": [],
   "source": [
    "# treating term as a catergorical feature\n",
    "train_clean['collection12months_medical'] = train_clean['collection12months_medical'].astype(str)\n",
    "train_clean['collection12months_medical'].dtypes"
   ]
  },
  {
   "cell_type": "code",
   "execution_count": null,
   "id": "74045cb8",
   "metadata": {},
   "outputs": [],
   "source": [
    "# Checking %\n",
    "train_clean.groupby(['collection12months_medical'])['loan_status'].apply(lambda x: (x > 0).sum() / x.size * 100)"
   ]
  },
  {
   "cell_type": "code",
   "execution_count": null,
   "id": "14a0a4ae",
   "metadata": {
    "scrolled": false
   },
   "outputs": [],
   "source": [
    "train_clean['delinquency_twoyears'].astype(int)"
   ]
  },
  {
   "cell_type": "code",
   "execution_count": null,
   "id": "8673670a",
   "metadata": {},
   "outputs": [],
   "source": [
    "def bin_continuous_features(df, feature_list):\n",
    "    for feature in feature_list:\n",
    "        bins = pd.qcut(df[feature], q=4, duplicates='drop')\n",
    "        df[feature] = bins\n",
    "    return df"
   ]
  },
  {
   "cell_type": "code",
   "execution_count": null,
   "id": "8874055b",
   "metadata": {},
   "outputs": [],
   "source": [
    "train_clean = bin_continuous_features(train_clean, cont_list)"
   ]
  },
  {
   "cell_type": "code",
   "execution_count": null,
   "id": "ccc12b6d",
   "metadata": {
    "scrolled": true
   },
   "outputs": [],
   "source": [
    "train_clean.head()"
   ]
  },
  {
   "cell_type": "code",
   "execution_count": null,
   "id": "b083c2d4",
   "metadata": {},
   "outputs": [],
   "source": [
    "# saving dataset ready for modelling\n",
    "train_clean.to_csv('train_model_a.csv', index=False)"
   ]
  }
 ],
 "metadata": {
  "kernelspec": {
   "display_name": "Python 3 (ipykernel)",
   "language": "python",
   "name": "python3"
  },
  "language_info": {
   "codemirror_mode": {
    "name": "ipython",
    "version": 3
   },
   "file_extension": ".py",
   "mimetype": "text/x-python",
   "name": "python",
   "nbconvert_exporter": "python",
   "pygments_lexer": "ipython3",
   "version": "3.9.13"
  }
 },
 "nbformat": 4,
 "nbformat_minor": 5
}
