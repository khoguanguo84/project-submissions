{
 "cells": [
  {
   "cell_type": "markdown",
   "id": "101e5463",
   "metadata": {},
   "source": [
    "# Predicting Loan Default: Part 3b"
   ]
  },
  {
   "cell_type": "markdown",
   "id": "5a17aad8",
   "metadata": {},
   "source": [
    "**Running Best Model on Test**"
   ]
  },
  {
   "cell_type": "code",
   "execution_count": 23,
   "id": "032aa3b4",
   "metadata": {},
   "outputs": [],
   "source": [
    "# Importing Libraries\n",
    "\n",
    "import numpy as np\n",
    "import pandas as pd\n",
    "import matplotlib.pyplot as plt\n",
    "import seaborn as sns\n",
    "\n",
    "from sklearn.cluster import DBSCAN\n",
    "from sklearn.preprocessing import StandardScaler, MinMaxScaler\n",
    "from sklearn import metrics\n",
    "from sklearn.metrics import ConfusionMatrixDisplay, confusion_matrix, classification_report\n",
    "from sklearn.metrics import roc_auc_score, roc_curve, RocCurveDisplay, log_loss, f1_score\n",
    "from sklearn.metrics import accuracy_score, roc_auc_score, precision_score, recall_score\n",
    "from sklearn.linear_model import LogisticRegression\n",
    "from sklearn.naive_bayes import MultinomialNB\n",
    "from sklearn.svm import LinearSVC, SVC\n",
    "from sklearn.ensemble import RandomForestClassifier, GradientBoostingClassifier\n",
    "from sklearn.model_selection import GridSearchCV, train_test_split\n",
    "\n",
    "from xgboost import XGBClassifier\n",
    "\n",
    "import re\n",
    "\n",
    "from imblearn.pipeline import Pipeline\n",
    "from imblearn.over_sampling import SMOTE"
   ]
  },
  {
   "cell_type": "code",
   "execution_count": 13,
   "id": "8aca763f",
   "metadata": {},
   "outputs": [],
   "source": [
    "# read in dataset\n",
    "train = pd.read_csv('data/train_model_a.csv')"
   ]
  },
  {
   "cell_type": "code",
   "execution_count": 14,
   "id": "b8541f65",
   "metadata": {},
   "outputs": [],
   "source": [
    "train = train.set_index('id')"
   ]
  },
  {
   "cell_type": "code",
   "execution_count": 15,
   "id": "edfb371d",
   "metadata": {},
   "outputs": [
    {
     "name": "stderr",
     "output_type": "stream",
     "text": [
      "C:\\Users\\khogu\\AppData\\Local\\Temp\\ipykernel_35360\\3845078900.py:3: DeprecationWarning: Converting `np.inexact` or `np.floating` to a dtype is deprecated. The current result is `float64` which is not strictly correct.\n",
      "  if train[column].dtype==np.number:\n",
      "C:\\Users\\khogu\\AppData\\Local\\Temp\\ipykernel_35360\\3845078900.py:3: DeprecationWarning: Converting `np.inexact` or `np.floating` to a dtype is deprecated. The current result is `float64` which is not strictly correct.\n",
      "  if train[column].dtype==np.number:\n",
      "C:\\Users\\khogu\\AppData\\Local\\Temp\\ipykernel_35360\\3845078900.py:3: DeprecationWarning: Converting `np.inexact` or `np.floating` to a dtype is deprecated. The current result is `float64` which is not strictly correct.\n",
      "  if train[column].dtype==np.number:\n",
      "C:\\Users\\khogu\\AppData\\Local\\Temp\\ipykernel_35360\\3845078900.py:3: DeprecationWarning: Converting `np.inexact` or `np.floating` to a dtype is deprecated. The current result is `float64` which is not strictly correct.\n",
      "  if train[column].dtype==np.number:\n",
      "C:\\Users\\khogu\\AppData\\Local\\Temp\\ipykernel_35360\\3845078900.py:3: DeprecationWarning: Converting `np.inexact` or `np.floating` to a dtype is deprecated. The current result is `float64` which is not strictly correct.\n",
      "  if train[column].dtype==np.number:\n",
      "C:\\Users\\khogu\\AppData\\Local\\Temp\\ipykernel_35360\\3845078900.py:3: DeprecationWarning: Converting `np.inexact` or `np.floating` to a dtype is deprecated. The current result is `float64` which is not strictly correct.\n",
      "  if train[column].dtype==np.number:\n",
      "C:\\Users\\khogu\\AppData\\Local\\Temp\\ipykernel_35360\\3845078900.py:3: DeprecationWarning: Converting `np.inexact` or `np.floating` to a dtype is deprecated. The current result is `float64` which is not strictly correct.\n",
      "  if train[column].dtype==np.number:\n",
      "C:\\Users\\khogu\\AppData\\Local\\Temp\\ipykernel_35360\\3845078900.py:3: DeprecationWarning: Converting `np.inexact` or `np.floating` to a dtype is deprecated. The current result is `float64` which is not strictly correct.\n",
      "  if train[column].dtype==np.number:\n",
      "C:\\Users\\khogu\\AppData\\Local\\Temp\\ipykernel_35360\\3845078900.py:3: DeprecationWarning: Converting `np.inexact` or `np.floating` to a dtype is deprecated. The current result is `float64` which is not strictly correct.\n",
      "  if train[column].dtype==np.number:\n",
      "C:\\Users\\khogu\\AppData\\Local\\Temp\\ipykernel_35360\\3845078900.py:3: DeprecationWarning: Converting `np.inexact` or `np.floating` to a dtype is deprecated. The current result is `float64` which is not strictly correct.\n",
      "  if train[column].dtype==np.number:\n",
      "C:\\Users\\khogu\\AppData\\Local\\Temp\\ipykernel_35360\\3845078900.py:3: DeprecationWarning: Converting `np.inexact` or `np.floating` to a dtype is deprecated. The current result is `float64` which is not strictly correct.\n",
      "  if train[column].dtype==np.number:\n",
      "C:\\Users\\khogu\\AppData\\Local\\Temp\\ipykernel_35360\\3845078900.py:3: DeprecationWarning: Converting `np.inexact` or `np.floating` to a dtype is deprecated. The current result is `float64` which is not strictly correct.\n",
      "  if train[column].dtype==np.number:\n",
      "C:\\Users\\khogu\\AppData\\Local\\Temp\\ipykernel_35360\\3845078900.py:3: DeprecationWarning: Converting `np.inexact` or `np.floating` to a dtype is deprecated. The current result is `float64` which is not strictly correct.\n",
      "  if train[column].dtype==np.number:\n",
      "C:\\Users\\khogu\\AppData\\Local\\Temp\\ipykernel_35360\\3845078900.py:3: DeprecationWarning: Converting `np.inexact` or `np.floating` to a dtype is deprecated. The current result is `float64` which is not strictly correct.\n",
      "  if train[column].dtype==np.number:\n",
      "C:\\Users\\khogu\\AppData\\Local\\Temp\\ipykernel_35360\\3845078900.py:3: DeprecationWarning: Converting `np.inexact` or `np.floating` to a dtype is deprecated. The current result is `float64` which is not strictly correct.\n",
      "  if train[column].dtype==np.number:\n",
      "C:\\Users\\khogu\\AppData\\Local\\Temp\\ipykernel_35360\\3845078900.py:3: DeprecationWarning: Converting `np.inexact` or `np.floating` to a dtype is deprecated. The current result is `float64` which is not strictly correct.\n",
      "  if train[column].dtype==np.number:\n",
      "C:\\Users\\khogu\\AppData\\Local\\Temp\\ipykernel_35360\\3845078900.py:3: DeprecationWarning: Converting `np.inexact` or `np.floating` to a dtype is deprecated. The current result is `float64` which is not strictly correct.\n",
      "  if train[column].dtype==np.number:\n",
      "C:\\Users\\khogu\\AppData\\Local\\Temp\\ipykernel_35360\\3845078900.py:3: DeprecationWarning: Converting `np.inexact` or `np.floating` to a dtype is deprecated. The current result is `float64` which is not strictly correct.\n",
      "  if train[column].dtype==np.number:\n",
      "C:\\Users\\khogu\\AppData\\Local\\Temp\\ipykernel_35360\\3845078900.py:3: DeprecationWarning: Converting `np.inexact` or `np.floating` to a dtype is deprecated. The current result is `float64` which is not strictly correct.\n",
      "  if train[column].dtype==np.number:\n",
      "C:\\Users\\khogu\\AppData\\Local\\Temp\\ipykernel_35360\\3845078900.py:3: DeprecationWarning: Converting `np.inexact` or `np.floating` to a dtype is deprecated. The current result is `float64` which is not strictly correct.\n",
      "  if train[column].dtype==np.number:\n",
      "C:\\Users\\khogu\\AppData\\Local\\Temp\\ipykernel_35360\\3845078900.py:3: DeprecationWarning: Converting `np.inexact` or `np.floating` to a dtype is deprecated. The current result is `float64` which is not strictly correct.\n",
      "  if train[column].dtype==np.number:\n",
      "C:\\Users\\khogu\\AppData\\Local\\Temp\\ipykernel_35360\\3845078900.py:3: DeprecationWarning: Converting `np.inexact` or `np.floating` to a dtype is deprecated. The current result is `float64` which is not strictly correct.\n",
      "  if train[column].dtype==np.number:\n",
      "C:\\Users\\khogu\\AppData\\Local\\Temp\\ipykernel_35360\\3845078900.py:3: DeprecationWarning: Converting `np.inexact` or `np.floating` to a dtype is deprecated. The current result is `float64` which is not strictly correct.\n",
      "  if train[column].dtype==np.number:\n",
      "C:\\Users\\khogu\\AppData\\Local\\Temp\\ipykernel_35360\\3845078900.py:3: DeprecationWarning: Converting `np.inexact` or `np.floating` to a dtype is deprecated. The current result is `float64` which is not strictly correct.\n",
      "  if train[column].dtype==np.number:\n",
      "C:\\Users\\khogu\\AppData\\Local\\Temp\\ipykernel_35360\\3845078900.py:3: DeprecationWarning: Converting `np.inexact` or `np.floating` to a dtype is deprecated. The current result is `float64` which is not strictly correct.\n",
      "  if train[column].dtype==np.number:\n",
      "C:\\Users\\khogu\\AppData\\Local\\Temp\\ipykernel_35360\\3845078900.py:3: DeprecationWarning: Converting `np.inexact` or `np.floating` to a dtype is deprecated. The current result is `float64` which is not strictly correct.\n",
      "  if train[column].dtype==np.number:\n",
      "C:\\Users\\khogu\\AppData\\Local\\Temp\\ipykernel_35360\\3845078900.py:3: DeprecationWarning: Converting `np.inexact` or `np.floating` to a dtype is deprecated. The current result is `float64` which is not strictly correct.\n",
      "  if train[column].dtype==np.number:\n",
      "C:\\Users\\khogu\\AppData\\Local\\Temp\\ipykernel_35360\\3845078900.py:3: DeprecationWarning: Converting `np.inexact` or `np.floating` to a dtype is deprecated. The current result is `float64` which is not strictly correct.\n",
      "  if train[column].dtype==np.number:\n",
      "C:\\Users\\khogu\\AppData\\Local\\Temp\\ipykernel_35360\\3845078900.py:3: DeprecationWarning: Converting `np.inexact` or `np.floating` to a dtype is deprecated. The current result is `float64` which is not strictly correct.\n",
      "  if train[column].dtype==np.number:\n",
      "C:\\Users\\khogu\\AppData\\Local\\Temp\\ipykernel_35360\\3845078900.py:3: DeprecationWarning: Converting `np.inexact` or `np.floating` to a dtype is deprecated. The current result is `float64` which is not strictly correct.\n",
      "  if train[column].dtype==np.number:\n",
      "C:\\Users\\khogu\\AppData\\Local\\Temp\\ipykernel_35360\\3845078900.py:3: DeprecationWarning: Converting `np.inexact` or `np.floating` to a dtype is deprecated. The current result is `float64` which is not strictly correct.\n",
      "  if train[column].dtype==np.number:\n",
      "C:\\Users\\khogu\\AppData\\Local\\Temp\\ipykernel_35360\\3845078900.py:3: DeprecationWarning: Converting `np.inexact` or `np.floating` to a dtype is deprecated. The current result is `float64` which is not strictly correct.\n",
      "  if train[column].dtype==np.number:\n",
      "C:\\Users\\khogu\\AppData\\Local\\Temp\\ipykernel_35360\\3845078900.py:3: DeprecationWarning: Converting `np.inexact` or `np.floating` to a dtype is deprecated. The current result is `float64` which is not strictly correct.\n",
      "  if train[column].dtype==np.number:\n",
      "C:\\Users\\khogu\\AppData\\Local\\Temp\\ipykernel_35360\\3845078900.py:3: DeprecationWarning: Converting `np.inexact` or `np.floating` to a dtype is deprecated. The current result is `float64` which is not strictly correct.\n",
      "  if train[column].dtype==np.number:\n"
     ]
    }
   ],
   "source": [
    "from sklearn.preprocessing import LabelEncoder\n",
    "for column in train.columns:\n",
    "    if train[column].dtype==np.number:\n",
    "        continue\n",
    "    train[column]=LabelEncoder().fit_transform(train[column])"
   ]
  },
  {
   "cell_type": "code",
   "execution_count": 16,
   "id": "bbcd3f41",
   "metadata": {
    "scrolled": true
   },
   "outputs": [
    {
     "name": "stdout",
     "output_type": "stream",
     "text": [
      "0    48977\n",
      "1     4993\n",
      "Name: loan_status, dtype: int64\n",
      "0    12245\n",
      "1     1248\n",
      "Name: loan_status, dtype: int64\n"
     ]
    }
   ],
   "source": [
    "# create a new test dataset using 20% of the train data\n",
    "train, test = train_test_split(train, test_size=0.2, stratify=train['loan_status'])\n",
    "\n",
    "print(train['loan_status'].value_counts())\n",
    "print(test['loan_status'].value_counts())"
   ]
  },
  {
   "cell_type": "markdown",
   "id": "80cd11df",
   "metadata": {},
   "source": [
    "**Running the best model on test data**"
   ]
  },
  {
   "cell_type": "markdown",
   "id": "7c9a7bb3",
   "metadata": {},
   "source": [
    "Best Params: {'smote__sampling_strategy': 'minority', 'xgb__learning_rate': 0.14, 'xgb__max_depth': 4, 'xgb__n_estimators': 150}\n",
    "Best Score: 0.5161713545211244"
   ]
  },
  {
   "cell_type": "code",
   "execution_count": 17,
   "id": "2c685557",
   "metadata": {},
   "outputs": [],
   "source": [
    "# Train test split\n",
    "y = train['loan_status']\n",
    "X = train.drop('loan_status', axis=1)\n",
    "\n",
    "X_train, X_val, y_train, y_val = train_test_split(X, y, random_state = 42, stratify =y)"
   ]
  },
  {
   "cell_type": "code",
   "execution_count": 18,
   "id": "0aaf2919",
   "metadata": {},
   "outputs": [],
   "source": [
    "# define X and y for test\n",
    "\n",
    "X_test = test.drop('loan_status', axis = 1)\n",
    "y_test = test['loan_status']"
   ]
  },
  {
   "cell_type": "code",
   "execution_count": 19,
   "id": "cb27ae87",
   "metadata": {},
   "outputs": [],
   "source": [
    "# Fit XGBoost with best parameters\n",
    "xgb = XGBClassifier(random_state=42, learning_rate=0.14, max_depth=4, n_estimators=150)\n",
    "smote = SMOTE(random_state=42, sampling_strategy='minority')\n",
    "X_train_resampled, y_train_resampled = smote.fit_resample(X_train, y_train)\n",
    "xgb.fit(X_train_resampled, y_train_resampled)\n",
    "\n",
    "y_pred = xgb.predict(X_test)"
   ]
  },
  {
   "cell_type": "code",
   "execution_count": 27,
   "id": "beaeae6b",
   "metadata": {},
   "outputs": [
    {
     "name": "stdout",
     "output_type": "stream",
     "text": [
      "Log Loss Score: 0.52156\n",
      "Accuracy Score: 0.7605\n",
      "F1 Score: 0.1246\n"
     ]
    }
   ],
   "source": [
    "# Obtain predicted probabilities for test data\n",
    "y_pred_proba = xgb.predict_proba(X_test)\n",
    "\n",
    "# Calculate log loss score for test data\n",
    "logloss = log_loss(y_test, y_pred_proba)\n",
    "\n",
    "# Print the log loss score\n",
    "print(\"Log Loss Score: {:.5f}\".format(logloss))\n",
    "print(\"Accuracy Score:\", round(accuracy_score(y_test, xgb.predict(X_test)), 4))\n",
    "print(\"F1 Score:\", round(f1_score(y_test, xgb.predict(X_test)), 4))"
   ]
  },
  {
   "attachments": {},
   "cell_type": "markdown",
   "id": "50cfb028",
   "metadata": {},
   "source": [
    "**Conclusion**\n",
    "\n",
    "Just as a benchmark, the Log Loss score for the top performer in this competition was between 0.34 to 0.35.\n",
    "\n",
    "The process of feature engineering when dealing with a dataset like this is important in getting better scores.\n",
    "\n",
    "Binning features and making them categorical seems to work especially well with Random Forest Classifier and XGBoost."
   ]
  },
  {
   "attachments": {},
   "cell_type": "markdown",
   "id": "34b49614",
   "metadata": {},
   "source": [
    "**Recommendations**\n",
    "\n",
    "The model is not yet the finished product to be deployed, but can be used as a base to continue improving.\n",
    "\n",
    "Feature engineering based on the feature importance from the best model will play a big role in the next steps in the next phase of the project which I will continue to work on over the next few weeks.\n",
    "\n",
    "Obtaining the right data from customers to be used as features in the model besides what was provided might prove more useful than tweaking existing data.\n",
    "\n",
    "In order to get the model good enough to deploy, a few things need to be accomplished.\n",
    "\n",
    "1. Feature engineering and continued tuning to get better Accuracy and F1 scores\n",
    "2. Reduction of features such that the deployment feature ranges are easily obtainable by bank clients and the bank.\n",
    "3. Model needs to run fast in order to be deployed for customer use."
   ]
  },
  {
   "cell_type": "code",
   "execution_count": null,
   "id": "f160d23d",
   "metadata": {},
   "outputs": [],
   "source": []
  }
 ],
 "metadata": {
  "kernelspec": {
   "display_name": "Python 3 (ipykernel)",
   "language": "python",
   "name": "python3"
  },
  "language_info": {
   "codemirror_mode": {
    "name": "ipython",
    "version": 3
   },
   "file_extension": ".py",
   "mimetype": "text/x-python",
   "name": "python",
   "nbconvert_exporter": "python",
   "pygments_lexer": "ipython3",
   "version": "3.9.13"
  }
 },
 "nbformat": 4,
 "nbformat_minor": 5
}
