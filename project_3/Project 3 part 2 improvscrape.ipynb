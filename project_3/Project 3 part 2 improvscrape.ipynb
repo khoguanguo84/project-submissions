{
 "cells": [
  {
   "cell_type": "markdown",
   "id": "32668531",
   "metadata": {},
   "source": [
    "## Project 3: Part 2\n",
    "\n",
    "### Scraping of Data from improv Subreddit"
   ]
  },
  {
   "cell_type": "code",
   "execution_count": 1,
   "id": "77a7f4ae",
   "metadata": {},
   "outputs": [],
   "source": [
    "# Import relevant libraries and necessary tools\n",
    "import pandas as pd\n",
    "import requests"
   ]
  },
  {
   "cell_type": "code",
   "execution_count": 2,
   "id": "c5b2711e",
   "metadata": {},
   "outputs": [],
   "source": [
    "# Url\n",
    "url = 'https://api.pushshift.io/reddit/search/submission'"
   ]
  },
  {
   "cell_type": "code",
   "execution_count": 3,
   "id": "bbd56163",
   "metadata": {},
   "outputs": [],
   "source": [
    "# Params for subreddit and size\n",
    "params = {\n",
    "    'subreddit': 'improv',\n",
    "    'size': 1000\n",
    "}"
   ]
  },
  {
   "cell_type": "code",
   "execution_count": 4,
   "id": "c0d16d28",
   "metadata": {},
   "outputs": [],
   "source": [
    "headers = {\n",
    "    'User-Agent': 'Mozilla/5.0 (Windows NT 10.0; rv:91.0) Gecko/20100101 Firefox/01.0'\n",
    "}"
   ]
  },
  {
   "cell_type": "code",
   "execution_count": 5,
   "id": "9627a808",
   "metadata": {},
   "outputs": [
    {
     "name": "stdout",
     "output_type": "stream",
     "text": [
      "loop_no0, status code = 200\n",
      "1489987840\n",
      "loop_no1, status code = 200\n",
      "1461534678\n"
     ]
    }
   ],
   "source": [
    "# Creating a loop to scrape sufficient posts from StandUpComedy\n",
    "for i in range(2):\n",
    "    if i != 0:\n",
    "        params['before'] = time_stamp\n",
    "    res = requests.get(url, params)\n",
    "    print(f'loop_no{i}, status code = {res.status_code}')\n",
    "    data = res.json()\n",
    "    time_stamp = data['data'][-1]['created_utc']\n",
    "    print(time_stamp)\n",
    "    posts = data['data']\n",
    "# Creating a dataframe from the resulting json and concatenating every loop into the dataframe   \n",
    "    if i == 0:\n",
    "        df_improv = pd.DataFrame(posts)\n",
    "    else:\n",
    "        df_improv = pd.concat([df_improv, pd.DataFrame(posts)], ignore_index = True, axis = 0)\n",
    "\n",
    "\n"
   ]
  },
  {
   "cell_type": "code",
   "execution_count": 6,
   "id": "d483cd66",
   "metadata": {},
   "outputs": [
    {
     "data": {
      "text/plain": [
       "(2000, 105)"
      ]
     },
     "execution_count": 6,
     "metadata": {},
     "output_type": "execute_result"
    }
   ],
   "source": [
    "# Check the shape of the dataframe\n",
    "df_improv.shape"
   ]
  },
  {
   "cell_type": "code",
   "execution_count": 7,
   "id": "5a8f69bd",
   "metadata": {},
   "outputs": [],
   "source": [
    "# Create new dataframe with only subreddit, selftext and title columns\n",
    "df_improv = df_improv[['subreddit', 'selftext', 'title']]"
   ]
  },
  {
   "cell_type": "code",
   "execution_count": 8,
   "id": "5f0b24e7",
   "metadata": {},
   "outputs": [
    {
     "data": {
      "text/html": [
       "<div>\n",
       "<style scoped>\n",
       "    .dataframe tbody tr th:only-of-type {\n",
       "        vertical-align: middle;\n",
       "    }\n",
       "\n",
       "    .dataframe tbody tr th {\n",
       "        vertical-align: top;\n",
       "    }\n",
       "\n",
       "    .dataframe thead th {\n",
       "        text-align: right;\n",
       "    }\n",
       "</style>\n",
       "<table border=\"1\" class=\"dataframe\">\n",
       "  <thead>\n",
       "    <tr style=\"text-align: right;\">\n",
       "      <th></th>\n",
       "      <th>subreddit</th>\n",
       "      <th>selftext</th>\n",
       "      <th>title</th>\n",
       "    </tr>\n",
       "  </thead>\n",
       "  <tbody>\n",
       "    <tr>\n",
       "      <th>0</th>\n",
       "      <td>improv</td>\n",
       "      <td>[removed]</td>\n",
       "      <td>[ REDACTED ] needs your help</td>\n",
       "    </tr>\n",
       "    <tr>\n",
       "      <th>1</th>\n",
       "      <td>improv</td>\n",
       "      <td></td>\n",
       "      <td>hey wanna help some a teen improv troupe</td>\n",
       "    </tr>\n",
       "    <tr>\n",
       "      <th>2</th>\n",
       "      <td>improv</td>\n",
       "      <td></td>\n",
       "      <td>10 things improvisors should do besides improvise</td>\n",
       "    </tr>\n",
       "    <tr>\n",
       "      <th>3</th>\n",
       "      <td>improv</td>\n",
       "      <td>I’m starting to feel a little scared. Somethin...</td>\n",
       "      <td>Classes are super expensive</td>\n",
       "    </tr>\n",
       "    <tr>\n",
       "      <th>4</th>\n",
       "      <td>improv</td>\n",
       "      <td>This sub is all about supporting its fellow pl...</td>\n",
       "      <td>Weekly /r/improv promote your upcoming shows, ...</td>\n",
       "    </tr>\n",
       "  </tbody>\n",
       "</table>\n",
       "</div>"
      ],
      "text/plain": [
       "  subreddit                                           selftext  \\\n",
       "0    improv                                          [removed]   \n",
       "1    improv                                                      \n",
       "2    improv                                                      \n",
       "3    improv  I’m starting to feel a little scared. Somethin...   \n",
       "4    improv  This sub is all about supporting its fellow pl...   \n",
       "\n",
       "                                               title  \n",
       "0                       [ REDACTED ] needs your help  \n",
       "1           hey wanna help some a teen improv troupe  \n",
       "2  10 things improvisors should do besides improvise  \n",
       "3                        Classes are super expensive  \n",
       "4  Weekly /r/improv promote your upcoming shows, ...  "
      ]
     },
     "execution_count": 8,
     "metadata": {},
     "output_type": "execute_result"
    }
   ],
   "source": [
    "df_improv.head()"
   ]
  },
  {
   "cell_type": "code",
   "execution_count": 9,
   "id": "6d7ac814",
   "metadata": {},
   "outputs": [],
   "source": [
    "# Save dataframe to CSV file\n",
    "df_improv.to_csv('datasets/improv.csv', index=False)"
   ]
  }
 ],
 "metadata": {
  "kernelspec": {
   "display_name": "Python 3 (ipykernel)",
   "language": "python",
   "name": "python3"
  },
  "language_info": {
   "codemirror_mode": {
    "name": "ipython",
    "version": 3
   },
   "file_extension": ".py",
   "mimetype": "text/x-python",
   "name": "python",
   "nbconvert_exporter": "python",
   "pygments_lexer": "ipython3",
   "version": "3.9.13"
  }
 },
 "nbformat": 4,
 "nbformat_minor": 5
}
