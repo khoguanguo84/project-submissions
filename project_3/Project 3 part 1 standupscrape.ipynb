{
 "cells": [
  {
   "cell_type": "markdown",
   "id": "b9ead0df",
   "metadata": {},
   "source": [
    "## Project 3: Part 1\n",
    "\n",
    "### Scraping of Data from StandUpComedy Subreddit"
   ]
  },
  {
   "cell_type": "code",
   "execution_count": 3,
   "id": "77a7f4ae",
   "metadata": {},
   "outputs": [],
   "source": [
    "# Import relevant libraries and necessary tools\n",
    "import pandas as pd\n",
    "import requests"
   ]
  },
  {
   "cell_type": "code",
   "execution_count": 4,
   "id": "c5b2711e",
   "metadata": {},
   "outputs": [],
   "source": [
    "# Url\n",
    "url = 'https://api.pushshift.io/reddit/search/submission'"
   ]
  },
  {
   "cell_type": "code",
   "execution_count": 5,
   "id": "bbd56163",
   "metadata": {},
   "outputs": [],
   "source": [
    "# Params for subreddit and size\n",
    "params = {\n",
    "    'subreddit': 'StandUpComedy',\n",
    "    'size': 1000\n",
    "}"
   ]
  },
  {
   "cell_type": "code",
   "execution_count": 7,
   "id": "c0d16d28",
   "metadata": {},
   "outputs": [],
   "source": [
    "headers = {\n",
    "    'User-Agent': 'Mozilla/5.0 (Windows NT 10.0; rv:91.0) Gecko/20100101 Firefox/01.0'\n",
    "}"
   ]
  },
  {
   "cell_type": "code",
   "execution_count": 9,
   "id": "9627a808",
   "metadata": {},
   "outputs": [
    {
     "name": "stdout",
     "output_type": "stream",
     "text": [
      "loop_no0, status code = 200\n",
      "1674205077\n",
      "loop_no1, status code = 200\n",
      "1669919881\n"
     ]
    }
   ],
   "source": [
    "# Creating a loop to scrape sufficient posts from StandUpComedy\n",
    "for i in range(2):\n",
    "    if i != 0:\n",
    "        params['before'] = time_stamp\n",
    "    res = requests.get(url, params)\n",
    "    print(f'loop_no{i}, status code = {res.status_code}')\n",
    "    data = res.json()\n",
    "    time_stamp = data['data'][-1]['created_utc']\n",
    "    print(time_stamp)\n",
    "    posts = data['data']\n",
    "# Creating a dataframe from the resulting json and concatenating every loop into the dataframe   \n",
    "    if i == 0:\n",
    "        df_standup = pd.DataFrame(posts)\n",
    "    else:\n",
    "        df_standup = pd.concat([df_standup, pd.DataFrame(posts)], ignore_index = True, axis = 0)\n",
    "\n",
    "\n"
   ]
  },
  {
   "cell_type": "code",
   "execution_count": 10,
   "id": "d483cd66",
   "metadata": {},
   "outputs": [
    {
     "data": {
      "text/plain": [
       "(2000, 94)"
      ]
     },
     "execution_count": 10,
     "metadata": {},
     "output_type": "execute_result"
    }
   ],
   "source": [
    "# Check the shape of the dataframe\n",
    "df_standup.shape"
   ]
  },
  {
   "cell_type": "code",
   "execution_count": 15,
   "id": "5a8f69bd",
   "metadata": {},
   "outputs": [],
   "source": [
    "# Create new dataframe with only subreddit, selftext and title columns\n",
    "df_standup = df_standup[['subreddit', 'selftext', 'title']]"
   ]
  },
  {
   "cell_type": "code",
   "execution_count": 27,
   "id": "5f0b24e7",
   "metadata": {},
   "outputs": [
    {
     "data": {
      "text/html": [
       "<div>\n",
       "<style scoped>\n",
       "    .dataframe tbody tr th:only-of-type {\n",
       "        vertical-align: middle;\n",
       "    }\n",
       "\n",
       "    .dataframe tbody tr th {\n",
       "        vertical-align: top;\n",
       "    }\n",
       "\n",
       "    .dataframe thead th {\n",
       "        text-align: right;\n",
       "    }\n",
       "</style>\n",
       "<table border=\"1\" class=\"dataframe\">\n",
       "  <thead>\n",
       "    <tr style=\"text-align: right;\">\n",
       "      <th></th>\n",
       "      <th>subreddit</th>\n",
       "      <th>selftext</th>\n",
       "      <th>title</th>\n",
       "    </tr>\n",
       "  </thead>\n",
       "  <tbody>\n",
       "    <tr>\n",
       "      <th>0</th>\n",
       "      <td>StandUpComedy</td>\n",
       "      <td>&amp;amp;#x200B;\\n\\n*Processing video box4j3han0na...</td>\n",
       "      <td>FAVE PORN CATEGORY</td>\n",
       "    </tr>\n",
       "    <tr>\n",
       "      <th>1</th>\n",
       "      <td>StandUpComedy</td>\n",
       "      <td></td>\n",
       "      <td>Had a comedian on my podcast !</td>\n",
       "    </tr>\n",
       "    <tr>\n",
       "      <th>2</th>\n",
       "      <td>StandUpComedy</td>\n",
       "      <td></td>\n",
       "      <td>Alleyoop - A dramedy short fiction podcast ser...</td>\n",
       "    </tr>\n",
       "    <tr>\n",
       "      <th>3</th>\n",
       "      <td>StandUpComedy</td>\n",
       "      <td></td>\n",
       "      <td>Banned From Tinder</td>\n",
       "    </tr>\n",
       "    <tr>\n",
       "      <th>4</th>\n",
       "      <td>StandUpComedy</td>\n",
       "      <td></td>\n",
       "      <td>Oh, Rick! - Full Stand-Up Comedy Documentary (...</td>\n",
       "    </tr>\n",
       "  </tbody>\n",
       "</table>\n",
       "</div>"
      ],
      "text/plain": [
       "       subreddit                                           selftext  \\\n",
       "0  StandUpComedy  &amp;#x200B;\\n\\n*Processing video box4j3han0na...   \n",
       "1  StandUpComedy                                                      \n",
       "2  StandUpComedy                                                      \n",
       "3  StandUpComedy                                                      \n",
       "4  StandUpComedy                                                      \n",
       "\n",
       "                                               title  \n",
       "0                                 FAVE PORN CATEGORY  \n",
       "1                     Had a comedian on my podcast !  \n",
       "2  Alleyoop - A dramedy short fiction podcast ser...  \n",
       "3                                 Banned From Tinder  \n",
       "4  Oh, Rick! - Full Stand-Up Comedy Documentary (...  "
      ]
     },
     "execution_count": 27,
     "metadata": {},
     "output_type": "execute_result"
    }
   ],
   "source": [
    "df_standup.head()"
   ]
  },
  {
   "cell_type": "code",
   "execution_count": 25,
   "id": "6d7ac814",
   "metadata": {},
   "outputs": [],
   "source": [
    "# Save dataframe to CSV file\n",
    "df_standup.to_csv('datasets/standup.csv', index=False)"
   ]
  }
 ],
 "metadata": {
  "kernelspec": {
   "display_name": "Python 3 (ipykernel)",
   "language": "python",
   "name": "python3"
  },
  "language_info": {
   "codemirror_mode": {
    "name": "ipython",
    "version": 3
   },
   "file_extension": ".py",
   "mimetype": "text/x-python",
   "name": "python",
   "nbconvert_exporter": "python",
   "pygments_lexer": "ipython3",
   "version": "3.9.13"
  }
 },
 "nbformat": 4,
 "nbformat_minor": 5
}
